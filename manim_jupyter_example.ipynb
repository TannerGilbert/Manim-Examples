{
 "metadata": {
  "language_info": {
   "codemirror_mode": {
    "name": "ipython",
    "version": 3
   },
   "file_extension": ".py",
   "mimetype": "text/x-python",
   "name": "python",
   "nbconvert_exporter": "python",
   "pygments_lexer": "ipython3",
   "version": "3.8.5-final"
  },
  "orig_nbformat": 2,
  "kernelspec": {
   "name": "python385jvsc74a57bd087f38c488be80a9fc038f418faf2f84647a778091af23bb2bde749c99b4ba6e0",
   "display_name": "Python 3.8.5 64-bit ('gilbert': virtualenv)"
  }
 },
 "nbformat": 4,
 "nbformat_minor": 2,
 "cells": [
  {
   "cell_type": "code",
   "execution_count": 1,
   "source": [
    "from manim import *"
   ],
   "outputs": [],
   "metadata": {}
  },
  {
   "cell_type": "code",
   "execution_count": 2,
   "source": [
    "%%manim SquareToCircle -qm -v WARNING\r\n",
    "\r\n",
    "class SquareToCircle(Scene):\r\n",
    "    def construct(self):\r\n",
    "        # Creating shapes\r\n",
    "        circle = Circle()\r\n",
    "        square = Square()\r\n",
    "\r\n",
    "        #Showing shapes\r\n",
    "        self.play(Create(square))\r\n",
    "        self.play(Transform(square, circle))\r\n",
    "        self.play(FadeOut(square))\r\n"
   ],
   "outputs": [
    {
     "output_type": "display_data",
     "data": {
      "text/plain": [
       "<rich.jupyter.JupyterRenderable at 0x232973a0e20>"
      ],
      "text/html": [
       "<pre style=\"white-space:pre;overflow-x:auto;line-height:normal;font-family:Menlo,'DejaVu Sans Mono',consolas,'Courier New',monospace\"><span style=\"color: #7fbfbf\">[04/10/21 15:19:24] </span><span style=\"color: #800000\">WARNING</span>  ShowCreation has been deprecated in favor of     <a href=\"file://C:\\Users\\gilbert\\anaconda3\\lib\\site-packages\\manim\\animation\\creation.py\"><span style=\"color: #7f7f7f\">creation.py</span></a><span style=\"color: #7f7f7f\">:167</span>\n",
       "                             Create. Please use Create instead!                              \n",
       "</pre>\n"
      ]
     },
     "metadata": {}
    },
    {
     "output_type": "stream",
     "name": "stderr",
     "text": []
    },
    {
     "output_type": "display_data",
     "data": {
      "text/plain": [
       "<IPython.core.display.Video object>"
      ],
      "text/html": [
       "<video src=\"media\\jupyter\\e40e81672ceab75f7d95c223ecb481ff596cb764.mp4\" controls autoplay loop style=\"max-width: 25vw;\"  >\n",
       "      Your browser does not support the <code>video</code> element.\n",
       "    </video>"
      ]
     },
     "metadata": {}
    }
   ],
   "metadata": {}
  }
 ]
}